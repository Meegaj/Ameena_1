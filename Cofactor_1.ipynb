{
 "cells": [
  {
   "cell_type": "code",
   "execution_count": 9,
   "id": "65ddc0ff",
   "metadata": {},
   "outputs": [
    {
     "name": "stdout",
     "output_type": "stream",
     "text": [
      "Value of A3,2 element: 0\n",
      "[[ 9 -3  8  1]\n",
      " [ 0 -7  8  2]\n",
      " [ 1 -5  7  7]\n",
      " [ 3  2  0  9]]\n",
      "The determinant of the submatrix is: -199.99999999999991\n",
      "199.99999999999991\n"
     ]
    }
   ],
   "source": [
    "#Import library \n",
    "import numpy as np\n",
    "\n",
    "#create a function called cofactor that takes 3 inputs: 5x5 matrix, rows and columns\n",
    "\n",
    "def cofactor(matrix, row, col):\n",
    "    # Check if the input matrix is 5x5\n",
    "    if matrix.shape != (5, 5):\n",
    "        raise ValueError(\"Input matrix must be 5x5.\")\n",
    "    \n",
    "    # Extract the specified row and column\n",
    "    sub_matrix = np.delete(np.delete(matrix, row, axis=0), col, axis=1)\n",
    "    print(sub_matrix)\n",
    "    \n",
    "    # Compute the determinant of the 4x4 sub_matrix\n",
    "    det = np.linalg.det(sub_matrix)\n",
    "    \n",
    "    print('The determinant of the submatrix is:',det)\n",
    "    \n",
    "    # Returns the cofactor\n",
    "    return (-1)**(row + col) * det\n",
    "\n",
    "# Sample 5x5 matrix\n",
    "matrix = np.array([[9, 2, -3, 8, 1],[0, 7, -7, 8, 2],[-2, 0, -4, 5, 5],[1, 9, -5, 7, 7],[3, 5, 2, 0, 9]])\n",
    "\n",
    "#Extracts the A3,2 element which is the element in the 3rd row and 2nd column\n",
    "\n",
    "M = matrix[2][1]\n",
    "\n",
    "print(f\"Value of A3,2 element: {M}\")\n",
    "\n",
    "print(cofactor(matrix, 2, 1))\n"
   ]
  },
  {
   "cell_type": "code",
   "execution_count": null,
   "id": "2aceeaf0",
   "metadata": {},
   "outputs": [],
   "source": []
  }
 ],
 "metadata": {
  "kernelspec": {
   "display_name": "Python 3 (ipykernel)",
   "language": "python",
   "name": "python3"
  },
  "language_info": {
   "codemirror_mode": {
    "name": "ipython",
    "version": 3
   },
   "file_extension": ".py",
   "mimetype": "text/x-python",
   "name": "python",
   "nbconvert_exporter": "python",
   "pygments_lexer": "ipython3",
   "version": "3.11.4"
  }
 },
 "nbformat": 4,
 "nbformat_minor": 5
}
